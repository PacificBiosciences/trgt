{
 "cells": [
  {
   "cell_type": "markdown",
   "id": "a2b6e2db-22aa-4088-96f5-91053bf91d1a",
   "metadata": {},
   "source": [
    "A workflow for flagging unusually long repeat expansions in samples.\n",
    "1. Get the observed repeat lengths from a set of samples in a TRGTdb to serve as a control\n",
    "2. Identify repeat lengths in another set of case samples which are significantly longer relative to controls\n",
    "3. Output the resulting list of potentially significant loci and generate some example summary plots\n",
    "\n",
    "The first example will perform the query when our case sample is merged into the same database as the controls."
   ]
  },
  {
   "cell_type": "code",
   "execution_count": 1,
   "id": "c1716b47-df1f-430f-a720-5badb8f6ed62",
   "metadata": {},
   "outputs": [],
   "source": [
    "import trgt\n",
    "import pandas as pd"
   ]
  },
  {
   "cell_type": "code",
   "execution_count": 2,
   "id": "564b7c51-2233-46a4-babc-fba0ea861e8c",
   "metadata": {},
   "outputs": [
    {
     "name": "stdout",
     "output_type": "stream",
     "text": [
      "TRGTdb sample count: 105\n"
     ]
    }
   ],
   "source": [
    "data = trgt.load_tdb(\"../test_files/databases/hprc_105.tdb/\")\n",
    "print(\"TRGTdb sample count:\", len(data[\"sample\"]))"
   ]
  },
  {
   "cell_type": "markdown",
   "id": "f488e614-0a21-4770-acef-acb29cf4d55f",
   "metadata": {},
   "source": [
    "If your sample of interest is a VCF and not converted or not merged into the database of controls, you can create an in-memory consolidated data based via:\n",
    "```python\n",
    "new_sample = trgt.vcf_to_tdb(\"SampleABC.vcf.gz\")\n",
    "merged_database = trgt.tdb_consolidate(data, new_sample)\n",
    "```\n",
    "This creates the database in-memory. Now that our data is ready, we'll need to identify our case sample to separate it from the and control samples. For this example, we'll use HG002 as the case and the rest are controls."
   ]
  },
  {
   "cell_type": "code",
   "execution_count": 3,
   "id": "47c989dd-f892-4c60-b620-6f8d0d8b3557",
   "metadata": {},
   "outputs": [],
   "source": [
    "case = \"HG002\"\n",
    "controls = [_ for _ in data[\"sample\"].keys() if _ != case]"
   ]
  },
  {
   "cell_type": "markdown",
   "id": "adfe9c93-ffbb-46b1-850c-16eacfe9cbbd",
   "metadata": {},
   "source": [
    "Next, we'll pull the observed allele lengths for our samples."
   ]
  },
  {
   "cell_type": "code",
   "execution_count": 4,
   "id": "9b5f94d8-41bc-430b-8191-667a378fbf99",
   "metadata": {},
   "outputs": [
    {
     "name": "stdout",
     "output_type": "stream",
     "text": [
      "Observed 12,140 alleles in case over 9,390 loci\n",
      "Observed 194,000,042 alleles in 104 controls over 937,017 loci\n"
     ]
    }
   ],
   "source": [
    "# Only need to do this once so we can quickly grab the subset of alleles for each sample table\n",
    "alleles = data[\"allele\"].set_index([\"LocusID\", \"allele_number\"])\n",
    "\n",
    "def get_observed_allele_lengths(data, samples):\n",
    "    \"\"\"\n",
    "    Given a TRGTdb and a list of sample names\n",
    "    return a DataFrame of LocusID, allele_number, allele_length, sample_name\n",
    "    \"\"\"\n",
    "    observed_allele_lengths = []\n",
    "    for name in samples:\n",
    "        sample_table = data[\"sample\"][name]\n",
    "        \n",
    "        # Create an index of the alleles present in the sample\n",
    "        idx_table = pd.MultiIndex.from_frame(sample_table[[\"LocusID\", \"allele_number\"]])\n",
    "        # Subset the alleles and pull their lengths\n",
    "        result = alleles.loc[idx_table, [\"allele_length\"]]\n",
    "        result['sample_name'] = name\n",
    "        observed_allele_lengths.append(result)\n",
    "    # Sorting and indexing here speeds up calculating the distribution per-locus later\n",
    "    return (pd.concat(observed_allele_lengths)\n",
    "                .reset_index()\n",
    "                .sort_values(\"LocusID\")\n",
    "                .set_index(\"LocusID\"))\n",
    "\n",
    "# Create case/control observed allele lengths\n",
    "\n",
    "control_allele_lengths = get_observed_allele_lengths(data, controls)\n",
    "case_allele_lengths = get_observed_allele_lengths(data, [case])\n",
    "\n",
    "# Some loci only have a single observed allele (homozygous sites)\n",
    "# We can `drop_duplicates` to remove the redundant information\n",
    "case_allele_lengths = (case_allele_lengths\n",
    "                           .reset_index()\n",
    "                           .drop_duplicates()\n",
    "                           .set_index(\"LocusID\"))\n",
    "\n",
    "# Quick little summary stats\n",
    "print(f\"Observed {len(case_allele_lengths):,} alleles in case over {case_allele_lengths.index.nunique():,} loci\")\n",
    "print(f\"Observed {len(control_allele_lengths):,} alleles in {len(controls):,} controls over {control_allele_lengths.index.nunique():,} loci\")"
   ]
  },
  {
   "cell_type": "markdown",
   "id": "89dd9e71-55a9-4afa-b82b-7a6e19dabe0a",
   "metadata": {},
   "source": [
    "For every locus, we want to calculate the observed distribution of allele lengths which we'll be testing against. Here we'll simply calculate the mean and standard deviation."
   ]
  },
  {
   "cell_type": "code",
   "execution_count": 5,
   "id": "0a877ffd-416a-467a-b98a-40278dd3dd88",
   "metadata": {},
   "outputs": [],
   "source": [
    "def calculate_distribution(observed_allele_lengths):\n",
    "    \"\"\"\n",
    "    return a DataFrame with LocusID as its index and columns of mean, standard deviation (std), \n",
    "    and upper_threshold as (mean + 3 std) for each locus\n",
    "    \"\"\"\n",
    "    grp = observed_allele_lengths.groupby(\"LocusID\")[\"allele_length\"]\n",
    "    length_distribution = pd.concat([grp.mean(), grp.std()], axis=1)\n",
    "    length_distribution.columns = [\"mean\", \"std\"]\n",
    "    length_distribution['upper_threshold'] = length_distribution['mean'] + length_distribution['std'] * 3\n",
    "    return length_distribution\n",
    "\n",
    "control_distro = calculate_distribution(control_allele_lengths)"
   ]
  },
  {
   "cell_type": "markdown",
   "id": "24f35954-5d8a-4b1a-bfa4-8a54866b8429",
   "metadata": {},
   "source": [
    "Note that pulling the allele lengths and calculating the distribution is slow since there are so many loci. If you plan on performing tests against the `control_distro` multiple times, you may want to save its DataFrame and load it later for reuse. Another optimization could be to limit the number of loci that need their distribution calculated by e.g. subsetting to only loci with a minimum number of non-reference alleles.\n",
    "\n",
    "We can now join the two sample's allele_lengths to the control distribution and compare. As an example, we'll look for loci where the case allele length is above the control upper_threshold."
   ]
  },
  {
   "cell_type": "code",
   "execution_count": 19,
   "id": "49655f5a-d1eb-4d1c-af63-35b4dbfc3cc6",
   "metadata": {},
   "outputs": [
    {
     "name": "stdout",
     "output_type": "stream",
     "text": [
      "Number of loci passing test:\n"
     ]
    },
    {
     "data": {
      "text/plain": [
       "False    1553199\n",
       "True        5284\n",
       "dtype: int64"
      ]
     },
     "execution_count": 19,
     "metadata": {},
     "output_type": "execute_result"
    }
   ],
   "source": [
    "distros = case_allele_lengths.join(control_distro)\n",
    "loci_test = distros['allele_length'] > distros['upper_threshold']\n",
    "print(\"Number of loci passing test:\")\n",
    "loci_test.value_counts()"
   ]
  },
  {
   "cell_type": "markdown",
   "id": "0379358b-1cac-46ec-a736-3d1119bbfc85",
   "metadata": {},
   "source": [
    "To make a final report, we'll subset the `case_allele_lengths` to loci passing the test, join back to the Locus table so we have location information, and add a 'z-score' to the report before saving to a tsv."
   ]
  },
  {
   "cell_type": "code",
   "execution_count": 20,
   "id": "f01ec3ce-8d30-405b-9e6c-4da45fc082bc",
   "metadata": {},
   "outputs": [],
   "source": [
    "report = distros[loci_test].copy() # Copying so that this frame slice can have new columns added\n",
    "loci = data['locus'].set_index(\"LocusID\")\n",
    "tested_loci = loci.loc[report.index]\n",
    "report = tested_loci.join(report)\n",
    "report['z-score'] = (report['allele_length'] - report['mean']) / report['std']\n",
    "report.to_csv(\"long_expansions.tsv\", sep='\\t')"
   ]
  },
  {
   "cell_type": "markdown",
   "id": "d7bb2f00-e5dd-407a-8ea8-1821f865ac14",
   "metadata": {},
   "source": [
    "Lets also generate a summary plot of how many loci pass the test and their z-score distribution per-chromosome."
   ]
  },
  {
   "cell_type": "code",
   "execution_count": 21,
   "id": "a1f0a5a4-988a-4e21-8a45-2441e5f6cf81",
   "metadata": {},
   "outputs": [
    {
     "data": {
      "image/png": "[encoded data removed]",
      "text/plain": [
       "<Figure size 640x480 with 1 Axes>"
      ]
     },
     "metadata": {},
     "output_type": "display_data"
    }
   ],
   "source": [
    "import seaborn as sb\n",
    "import matplotlib.pyplot as plt\n",
    "\n",
    "x_order = [f'chr{_}' for _ in list(range(1,23)) + [\"X\", \"Y\"]] # Sorting chromosomes\n",
    "p = sb.boxplot(data=report, x='chrom', y=\"z-score\", order=x_order)\n",
    "plt.xticks(rotation=45, ha='right')\n",
    "p.set_axisbelow(True)\n",
    "plt.grid()\n",
    "_ = p.set(title=f\"Loci z-scores (N={len(report):,})\", yscale='log', ylabel=\"z-score (log)\")"
   ]
  },
  {
   "cell_type": "markdown",
   "id": "e0f204a8-7418-4c22-b02c-c70fcce4a649",
   "metadata": {},
   "source": [
    "You can see that HG002 has an expansion on chr11 that is much longer than the alleles in the control samples and that chrX has many more 'significant' expansions that other chromosomes. Chromosome X is likely explained by pseudoautosomal regions where we failed to account for the sex of our samples. Inspecting the autosome's significant expansions in the report shows:"
   ]
  },
  {
   "cell_type": "code",
   "execution_count": 23,
   "id": "776de11e-c104-4097-b836-1f37e1ed48de",
   "metadata": {},
   "outputs": [
    {
     "data": {
      "text/html": [
       "<div>\n",
       "<style scoped>\n",
       "    .dataframe tbody tr th:only-of-type {\n",
       "        vertical-align: middle;\n",
       "    }\n",
       "\n",
       "    .dataframe tbody tr th {\n",
       "        vertical-align: top;\n",
       "    }\n",
       "\n",
       "    .dataframe thead th {\n",
       "        text-align: right;\n",
       "    }\n",
       "</style>\n",
       "<table border=\"1\" class=\"dataframe\">\n",
       "  <thead>\n",
       "    <tr style=\"text-align: right;\">\n",
       "      <th></th>\n",
       "      <th>chrom</th>\n",
       "      <th>start</th>\n",
       "      <th>end</th>\n",
       "      <th>allele_number</th>\n",
       "      <th>allele_length</th>\n",
       "      <th>sample_name</th>\n",
       "      <th>mean</th>\n",
       "      <th>std</th>\n",
       "      <th>upper_threshold</th>\n",
       "      <th>z-score</th>\n",
       "    </tr>\n",
       "    <tr>\n",
       "      <th>LocusID</th>\n",
       "      <th></th>\n",
       "      <th></th>\n",
       "      <th></th>\n",
       "      <th></th>\n",
       "      <th></th>\n",
       "      <th></th>\n",
       "      <th></th>\n",
       "      <th></th>\n",
       "      <th></th>\n",
       "      <th></th>\n",
       "    </tr>\n",
       "  </thead>\n",
       "  <tbody>\n",
       "    <tr>\n",
       "      <th>726170</th>\n",
       "      <td>chr6</td>\n",
       "      <td>26905570</td>\n",
       "      <td>26905641</td>\n",
       "      <td>2</td>\n",
       "      <td>72</td>\n",
       "      <td>HG002</td>\n",
       "      <td>71.000000</td>\n",
       "      <td>0.00000</td>\n",
       "      <td>71.000000</td>\n",
       "      <td>inf</td>\n",
       "    </tr>\n",
       "    <tr>\n",
       "      <th>106505</th>\n",
       "      <td>chr10</td>\n",
       "      <td>87406816</td>\n",
       "      <td>87407024</td>\n",
       "      <td>1</td>\n",
       "      <td>209</td>\n",
       "      <td>HG002</td>\n",
       "      <td>208.000000</td>\n",
       "      <td>0.00000</td>\n",
       "      <td>208.000000</td>\n",
       "      <td>inf</td>\n",
       "    </tr>\n",
       "    <tr>\n",
       "      <th>377060</th>\n",
       "      <td>chr18</td>\n",
       "      <td>45935145</td>\n",
       "      <td>45935238</td>\n",
       "      <td>1</td>\n",
       "      <td>94</td>\n",
       "      <td>HG002</td>\n",
       "      <td>93.000000</td>\n",
       "      <td>0.00000</td>\n",
       "      <td>93.000000</td>\n",
       "      <td>inf</td>\n",
       "    </tr>\n",
       "    <tr>\n",
       "      <th>137755</th>\n",
       "      <td>chr11</td>\n",
       "      <td>50654579</td>\n",
       "      <td>50654682</td>\n",
       "      <td>2</td>\n",
       "      <td>1722</td>\n",
       "      <td>HG002</td>\n",
       "      <td>98.807692</td>\n",
       "      <td>3.99777</td>\n",
       "      <td>110.801001</td>\n",
       "      <td>406.024464</td>\n",
       "    </tr>\n",
       "    <tr>\n",
       "      <th>861414</th>\n",
       "      <td>chr8</td>\n",
       "      <td>123206880</td>\n",
       "      <td>123207184</td>\n",
       "      <td>1</td>\n",
       "      <td>363</td>\n",
       "      <td>HG002</td>\n",
       "      <td>303.899038</td>\n",
       "      <td>1.10090</td>\n",
       "      <td>307.201737</td>\n",
       "      <td>53.684247</td>\n",
       "    </tr>\n",
       "  </tbody>\n",
       "</table>\n",
       "</div>"
      ],
      "text/plain": [
       "         chrom      start        end  allele_number  allele_length  \\\n",
       "LocusID                                                              \n",
       "726170    chr6   26905570   26905641              2             72   \n",
       "106505   chr10   87406816   87407024              1            209   \n",
       "377060   chr18   45935145   45935238              1             94   \n",
       "137755   chr11   50654579   50654682              2           1722   \n",
       "861414    chr8  123206880  123207184              1            363   \n",
       "\n",
       "        sample_name        mean      std  upper_threshold     z-score  \n",
       "LocusID                                                                \n",
       "726170        HG002   71.000000  0.00000        71.000000         inf  \n",
       "106505        HG002  208.000000  0.00000       208.000000         inf  \n",
       "377060        HG002   93.000000  0.00000        93.000000         inf  \n",
       "137755        HG002   98.807692  3.99777       110.801001  406.024464  \n",
       "861414        HG002  303.899038  1.10090       307.201737   53.684247  "
      ]
     },
     "execution_count": 23,
     "metadata": {},
     "output_type": "execute_result"
    }
   ],
   "source": [
    "report[~report['chrom'].isin([\"chrX\", \"chrY\"])].sort_values(['z-score'], ascending=False).head().dropna()"
   ]
  },
  {
   "cell_type": "markdown",
   "id": "4c9ccf4f-c60c-41c8-8805-4e0fc10a6017",
   "metadata": {},
   "source": [
    "We see that some loci have a z-score of `inf` since the controls have a standard-deviation of zero. If we check those we confirm that all the controls have the same allele_length. This shows that pre-filtering loci could be beneficial."
   ]
  },
  {
   "cell_type": "code",
   "execution_count": 51,
   "id": "6ed24cfe-9f31-4726-8153-678c33512566",
   "metadata": {},
   "outputs": [
    {
     "data": {
      "text/html": [
       "<div>\n",
       "<style scoped>\n",
       "    .dataframe tbody tr th:only-of-type {\n",
       "        vertical-align: middle;\n",
       "    }\n",
       "\n",
       "    .dataframe tbody tr th {\n",
       "        vertical-align: top;\n",
       "    }\n",
       "\n",
       "    .dataframe thead th {\n",
       "        text-align: right;\n",
       "    }\n",
       "</style>\n",
       "<table border=\"1\" class=\"dataframe\">\n",
       "  <thead>\n",
       "    <tr style=\"text-align: right;\">\n",
       "      <th></th>\n",
       "      <th>LocusID</th>\n",
       "      <th>allele_length</th>\n",
       "      <th>count</th>\n",
       "    </tr>\n",
       "  </thead>\n",
       "  <tbody>\n",
       "    <tr>\n",
       "      <th>0</th>\n",
       "      <td>106505</td>\n",
       "      <td>208</td>\n",
       "      <td>208</td>\n",
       "    </tr>\n",
       "    <tr>\n",
       "      <th>1</th>\n",
       "      <td>377060</td>\n",
       "      <td>93</td>\n",
       "      <td>208</td>\n",
       "    </tr>\n",
       "    <tr>\n",
       "      <th>2</th>\n",
       "      <td>726170</td>\n",
       "      <td>71</td>\n",
       "      <td>208</td>\n",
       "    </tr>\n",
       "    <tr>\n",
       "      <th>3</th>\n",
       "      <td>935917</td>\n",
       "      <td>83</td>\n",
       "      <td>54</td>\n",
       "    </tr>\n",
       "  </tbody>\n",
       "</table>\n",
       "</div>"
      ],
      "text/plain": [
       "   LocusID  allele_length  count\n",
       "0   106505            208    208\n",
       "1   377060             93    208\n",
       "2   726170             71    208\n",
       "3   935917             83     54"
      ]
     },
     "execution_count": 51,
     "metadata": {},
     "output_type": "execute_result"
    }
   ],
   "source": [
    "import numpy as np\n",
    "\n",
    "to_investigate = report[(report['z-score'] == np.inf)]\n",
    "\n",
    "(control_allele_lengths.loc[to_investigate.index]\n",
    "    .groupby(\"LocusID\")\n",
    "    [\"allele_length\"]\n",
    "    .value_counts()\n",
    "    .to_frame(name=\"count\")\n",
    "    .reset_index())"
   ]
  }
 ],
 "metadata": {
  "kernelspec": {
   "display_name": "Python 3 (ipykernel)",
   "language": "python",
   "name": "python3"
  },
  "language_info": {
   "codemirror_mode": {
    "name": "ipython",
    "version": 3
   },
   "file_extension": ".py",
   "mimetype": "text/x-python",
   "name": "python",
   "nbconvert_exporter": "python",
   "pygments_lexer": "ipython3",
   "version": "3.9.6"
  }
 },
 "nbformat": 4,
 "nbformat_minor": 5
}
