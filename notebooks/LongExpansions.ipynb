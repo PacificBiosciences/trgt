{
 "cells": [
  {
   "cell_type": "markdown",
   "id": "a2b6e2db-22aa-4088-96f5-91053bf91d1a",
   "metadata": {},
   "source": [
    "A workflow for flagging unusually long repeat expansions in samples.\n",
    "1. Get the observed repeat lengths from a set of samples in a TRGTdb to serve as a control\n",
    "2. Identify repeat lengths in another set of case samples which are significantly longer relative to controls\n",
    "3. Output the resulting list of potentially significant loci and generate some example summary plots\n",
    "\n",
    "The first example will perform the query when our case samples are mereged into the same database as the controls."
   ]
  },
  {
   "cell_type": "code",
   "execution_count": 1,
   "id": "c1716b47-df1f-430f-a720-5badb8f6ed62",
   "metadata": {},
   "outputs": [],
   "source": [
    "import trgt\n",
    "import pandas as pd"
   ]
  },
  {
   "cell_type": "code",
   "execution_count": 3,
   "id": "564b7c51-2233-46a4-babc-fba0ea861e8c",
   "metadata": {},
   "outputs": [
    {
     "name": "stdout",
     "output_type": "stream",
     "text": [
      "TRGTdb sample count: 105\n"
     ]
    }
   ],
   "source": [
    "data = trgt.load_tdb(\"../test_files/databases/hprc_105.tdb/\")\n",
    "print(\"TRGTdb sample count:\", len(data[\"sample\"]))"
   ]
  },
  {
   "cell_type": "markdown",
   "id": "f488e614-0a21-4770-acef-acb29cf4d55f",
   "metadata": {},
   "source": [
    "If your sample of interest is in a VCF and not converted / merged into the database of controls, you can create an in-memory consolidated data based via:\n",
    "```python\n",
    "new_sample = trgt.vcf_to_tdb(\"SampleABC.vcf.gz\")\n",
    "# Note that this creates the database in-memory. Therefore, no `.tdb` files are altered\n",
    "merged_database = trgt.tdb_consolidate(data, new_sample)\n",
    "```\n",
    "\n",
    "Now that our data is ready, we'll need to identify our case sample to separate it from the and 'control' samples. For this example, we'll just use HG002 as the case and the rest are controls."
   ]
  },
  {
   "cell_type": "code",
   "execution_count": 6,
   "id": "47c989dd-f892-4c60-b620-6f8d0d8b3557",
   "metadata": {},
   "outputs": [],
   "source": [
    "case = \"HG002\"\n",
    "controls = [_ for _ in data[\"sample\"].keys() if _ != case]"
   ]
  },
  {
   "cell_type": "markdown",
   "id": "adfe9c93-ffbb-46b1-850c-16eacfe9cbbd",
   "metadata": {},
   "source": [
    "Next, we'll pull the observed allele lengths for our samples."
   ]
  },
  {
   "cell_type": "code",
   "execution_count": 36,
   "id": "9b5f94d8-41bc-430b-8191-667a378fbf99",
   "metadata": {},
   "outputs": [
    {
     "name": "stdout",
     "output_type": "stream",
     "text": [
      "Observed 1,866,940 alleles in case over 935,231 loci\n",
      "Observed 194,000,042 alleles in 104 controls over 937,017 loci\n"
     ]
    }
   ],
   "source": [
    "# Only need to do this once so we can quickly grab the subset of alleles for each sample table\n",
    "alleles = data[\"allele\"].set_index([\"LocusID\", \"allele_number\"])\n",
    "\n",
    "def get_observed_allele_lengths(data, samples):\n",
    "    \"\"\"\n",
    "    Given a TRGTdb and a list of sample names\n",
    "    return a DataFrame of LocusID, allele_number, allele_length, sample_name\n",
    "    \"\"\"\n",
    "    observed_allele_lengths = []\n",
    "    for name in samples:\n",
    "        sample_table = data[\"sample\"][name]\n",
    "        \n",
    "        # Create an index of the alleles present in the sample\n",
    "        idx_table = pd.MultiIndex.from_frame(sample_table[[\"LocusID\", \"allele_number\"]])\n",
    "        # Subset the alleles and pull their lengths\n",
    "        result = alleles.loc[idx_table, [\"allele_length\"]]\n",
    "        result['sample_name'] = name\n",
    "        observed_allele_lengths.append(result)\n",
    "    # Sorting and indexing here speeds up calculating the distribution pre-locus later\n",
    "    return (pd.concat(observed_allele_lengths)\n",
    "                .reset_index()\n",
    "                .sort_values(\"LocusID\")\n",
    "                .set_index(\"LocusID\"))\n",
    "\n",
    "# Create case/control observed allele lengths\n",
    "control_allele_lengths = get_observed_allele_lengths(data, controls)\n",
    "\n",
    "# Some loci only have a single observed allele (homozygous sites)\n",
    "# We can `drop_duplicates` to remove the redundant information\n",
    "case_allele_lengths = get_observed_allele_lengths(data, [case]).drop_duplicates()\n",
    "\n",
    "# Quick little summary stats\n",
    "print(f\"Observed {len(case_allele_lengths):,} alleles in case over {case_allele_lengths.index.nunique():,} loci\")\n",
    "print(f\"Observed {len(control_allele_lengths):,} alleles in {len(controls):,} controls over {control_allele_lengths.index.nunique():,} loci\")"
   ]
  },
  {
   "cell_type": "markdown",
   "id": "89dd9e71-55a9-4afa-b82b-7a6e19dabe0a",
   "metadata": {},
   "source": [
    "For every locus, we want to calculate the observed distribution of allele lengths which we'll be testing against. Here we'll simply calculate the mean and standard deviation. If you have a custom method, switch the `.describe` to `.apply(your_method)`"
   ]
  },
  {
   "cell_type": "code",
   "execution_count": 34,
   "id": "0a877ffd-416a-467a-b98a-40278dd3dd88",
   "metadata": {},
   "outputs": [],
   "source": [
    "def calculate_distribution(observed_allele_lengths):\n",
    "    \"\"\"\n",
    "    return a DataFrame with mean, standard deviation (std), and upper_threshold of (mean + 3 std) for each locus\n",
    "    \"\"\"\n",
    "    grp = observed_allele_lengths.groupby(\"LocusID\")[\"allele_length\"]\n",
    "    length_distribution = pd.concat([grp.mean(), grp.std()], axis=1)\n",
    "    length_distribution.columns = [\"mean\", \"std\"]\n",
    "    length_distribution['upper_threshold'] = length_distribution['mean'] + length_distribution['std'] * 3\n",
    "    return length_distribution\n",
    "\n",
    "control_distro = calculate_distribution(control_allele_lengths)"
   ]
  },
  {
   "cell_type": "markdown",
   "id": "24f35954-5d8a-4b1a-bfa4-8a54866b8429",
   "metadata": {},
   "source": [
    "Note that pulling the allele lengths and calculating the distribution is slow since there are so many loci. If you plan on performing tests against the `control_distro` multiple times, you may want to save its DataFrame and load it later for reuse. Another optimization could be to limit the number of loci that need their distribution calculated by e.g. subsetting to only loci with a minimum number of non-reference alleles.\n",
    "\n",
    "We can now join the two distributions and compare. As an example, we'll look for loci where the case allele length is above the control upper_threshold."
   ]
  },
  {
   "cell_type": "code",
   "execution_count": 44,
   "id": "49655f5a-d1eb-4d1c-af63-35b4dbfc3cc6",
   "metadata": {},
   "outputs": [
    {
     "name": "stdout",
     "output_type": "stream",
     "text": [
      "Number of loci passing test:\n"
     ]
    },
    {
     "data": {
      "text/plain": [
       "False    12005\n",
       "True       135\n",
       "dtype: int64"
      ]
     },
     "execution_count": 44,
     "metadata": {},
     "output_type": "execute_result"
    }
   ],
   "source": [
    "distros = case_allele_lengths.join(control_distro)\n",
    "loci_test = distros['allele_length'] > distros['upper_threshold']\n",
    "print(\"Number of loci passing test:\")\n",
    "loci_test.value_counts()"
   ]
  },
  {
   "cell_type": "markdown",
   "id": "0379358b-1cac-46ec-a736-3d1119bbfc85",
   "metadata": {},
   "source": [
    "To make a final report, we'll subset the `case_allele_lengths` to loci passing the test, join back to the Locus table so we have location information, and add a 'z-score' to the report before saving to a tsv."
   ]
  },
  {
   "cell_type": "code",
   "execution_count": 48,
   "id": "f01ec3ce-8d30-405b-9e6c-4da45fc082bc",
   "metadata": {},
   "outputs": [],
   "source": [
    "report = distros[loci_test].copy() # Copying so that this frame slice can have new columns added\n",
    "loci = data['locus'].set_index(\"LocusID\")\n",
    "tested_loci = loci.loc[report.index]\n",
    "report = tested_loci.join(report)\n",
    "report['z-score'] = (report['allele_length'] - report['mean']) / report['std']\n",
    "report.to_csv(\"long_expansions.tsv\", sep='\\t')"
   ]
  },
  {
   "cell_type": "markdown",
   "id": "d7bb2f00-e5dd-407a-8ea8-1821f865ac14",
   "metadata": {},
   "source": [
    "Lets also generate a summary plot of how many loci pass the test and their z-score distribution per-chromosome."
   ]
  },
  {
   "cell_type": "code",
   "execution_count": 72,
   "id": "a1f0a5a4-988a-4e21-8a45-2441e5f6cf81",
   "metadata": {},
   "outputs": [
    {
     "data": {
      "image/png": "[encoded data removed]",
      "text/plain": [
       "<Figure size 640x480 with 1 Axes>"
      ]
     },
     "metadata": {},
     "output_type": "display_data"
    }
   ],
   "source": [
    "import seaborn as sb\n",
    "import matplotlib.pyplot as plt\n",
    "\n",
    "x_order = [f'chr{_}' for _ in list(range(1,23)) + [\"X\", \"Y\"]] # Sorting chromosomes\n",
    "p = sb.boxplot(data=report, x='chrom', y=\"z-score\", order=x_order)\n",
    "plt.xticks(rotation=45, ha='right')\n",
    "p.set_axisbelow(True)\n",
    "plt.grid()\n",
    "_ = p.set(title=f\"Loci z-scores (N={len(report):,})\", yscale='log', ylabel=\"z-score (log)\")"
   ]
  },
  {
   "cell_type": "markdown",
   "id": "e0f204a8-7418-4c22-b02c-c70fcce4a649",
   "metadata": {},
   "source": [
    "You can see that HG002 has an expansion on chr10 that is much longer than the alleles in the control samples and that chrX has many more 'significant' expansions that other chromosomes. Chromosome X is likely explained by pseudo-autosomal regions where we failed to account for the sex of our samples. Inspecting the autosome's significant expansions in the report shows:"
   ]
  },
  {
   "cell_type": "code",
   "execution_count": 69,
   "id": "776de11e-c104-4097-b836-1f37e1ed48de",
   "metadata": {},
   "outputs": [
    {
     "data": {
      "text/html": [
       "<div>\n",
       "<style scoped>\n",
       "    .dataframe tbody tr th:only-of-type {\n",
       "        vertical-align: middle;\n",
       "    }\n",
       "\n",
       "    .dataframe tbody tr th {\n",
       "        vertical-align: top;\n",
       "    }\n",
       "\n",
       "    .dataframe thead th {\n",
       "        text-align: right;\n",
       "    }\n",
       "</style>\n",
       "<table border=\"1\" class=\"dataframe\">\n",
       "  <thead>\n",
       "    <tr style=\"text-align: right;\">\n",
       "      <th></th>\n",
       "      <th>chrom</th>\n",
       "      <th>start</th>\n",
       "      <th>end</th>\n",
       "      <th>allele_number</th>\n",
       "      <th>allele_length</th>\n",
       "      <th>sample_name</th>\n",
       "      <th>mean</th>\n",
       "      <th>std</th>\n",
       "      <th>upper_threshold</th>\n",
       "      <th>z-score</th>\n",
       "    </tr>\n",
       "    <tr>\n",
       "      <th>LocusID</th>\n",
       "      <th></th>\n",
       "      <th></th>\n",
       "      <th></th>\n",
       "      <th></th>\n",
       "      <th></th>\n",
       "      <th></th>\n",
       "      <th></th>\n",
       "      <th></th>\n",
       "      <th></th>\n",
       "      <th></th>\n",
       "    </tr>\n",
       "  </thead>\n",
       "  <tbody>\n",
       "    <tr>\n",
       "      <th>137755</th>\n",
       "      <td>chr11</td>\n",
       "      <td>50654579</td>\n",
       "      <td>50654682</td>\n",
       "      <td>2</td>\n",
       "      <td>1722</td>\n",
       "      <td>HG002</td>\n",
       "      <td>98.807692</td>\n",
       "      <td>3.997770</td>\n",
       "      <td>110.801001</td>\n",
       "      <td>406.024464</td>\n",
       "    </tr>\n",
       "    <tr>\n",
       "      <th>887181</th>\n",
       "      <td>chr9</td>\n",
       "      <td>79122516</td>\n",
       "      <td>79122833</td>\n",
       "      <td>3</td>\n",
       "      <td>3420</td>\n",
       "      <td>HG002</td>\n",
       "      <td>331.456731</td>\n",
       "      <td>214.922743</td>\n",
       "      <td>976.224960</td>\n",
       "      <td>14.370481</td>\n",
       "    </tr>\n",
       "    <tr>\n",
       "      <th>186326</th>\n",
       "      <td>chr12</td>\n",
       "      <td>70660148</td>\n",
       "      <td>70660244</td>\n",
       "      <td>2</td>\n",
       "      <td>6300</td>\n",
       "      <td>HG002</td>\n",
       "      <td>127.740385</td>\n",
       "      <td>430.053339</td>\n",
       "      <td>1417.900401</td>\n",
       "      <td>14.352312</td>\n",
       "    </tr>\n",
       "    <tr>\n",
       "      <th>759883</th>\n",
       "      <td>chr6</td>\n",
       "      <td>138775837</td>\n",
       "      <td>138775905</td>\n",
       "      <td>2</td>\n",
       "      <td>2798</td>\n",
       "      <td>HG002</td>\n",
       "      <td>81.336538</td>\n",
       "      <td>189.418898</td>\n",
       "      <td>649.593233</td>\n",
       "      <td>14.342093</td>\n",
       "    </tr>\n",
       "    <tr>\n",
       "      <th>93855</th>\n",
       "      <td>chr10</td>\n",
       "      <td>39361067</td>\n",
       "      <td>39367157</td>\n",
       "      <td>4</td>\n",
       "      <td>16575</td>\n",
       "      <td>HG002</td>\n",
       "      <td>6079.677885</td>\n",
       "      <td>744.069199</td>\n",
       "      <td>8311.885482</td>\n",
       "      <td>14.105304</td>\n",
       "    </tr>\n",
       "  </tbody>\n",
       "</table>\n",
       "</div>"
      ],
      "text/plain": [
       "         chrom      start        end  allele_number  allele_length  \\\n",
       "LocusID                                                              \n",
       "137755   chr11   50654579   50654682              2           1722   \n",
       "887181    chr9   79122516   79122833              3           3420   \n",
       "186326   chr12   70660148   70660244              2           6300   \n",
       "759883    chr6  138775837  138775905              2           2798   \n",
       "93855    chr10   39361067   39367157              4          16575   \n",
       "\n",
       "        sample_name         mean         std  upper_threshold     z-score  \n",
       "LocusID                                                                    \n",
       "137755        HG002    98.807692    3.997770       110.801001  406.024464  \n",
       "887181        HG002   331.456731  214.922743       976.224960   14.370481  \n",
       "186326        HG002   127.740385  430.053339      1417.900401   14.352312  \n",
       "759883        HG002    81.336538  189.418898       649.593233   14.342093  \n",
       "93855         HG002  6079.677885  744.069199      8311.885482   14.105304  "
      ]
     },
     "execution_count": 69,
     "metadata": {},
     "output_type": "execute_result"
    }
   ],
   "source": [
    "report[~report['chrom'].isin([\"chrX\", \"chrY\"])].sort_values(['z-score'], ascending=False).head()"
   ]
  }
 ],
 "metadata": {
  "kernelspec": {
   "display_name": "Python 3 (ipykernel)",
   "language": "python",
   "name": "python3"
  },
  "language_info": {
   "codemirror_mode": {
    "name": "ipython",
    "version": 3
   },
   "file_extension": ".py",
   "mimetype": "text/x-python",
   "name": "python",
   "nbconvert_exporter": "python",
   "pygments_lexer": "ipython3",
   "version": "3.9.6"
  }
 },
 "nbformat": 4,
 "nbformat_minor": 5
}
